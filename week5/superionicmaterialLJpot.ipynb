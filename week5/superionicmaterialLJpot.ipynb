{
 "cells": [
  {
   "cell_type": "markdown",
   "source": [
    "First we download, compile, and install LAMMPS "
   ],
   "metadata": {
    "collapsed": false
   },
   "id": "9a0d419ba651bb3d"
  },
  {
   "cell_type": "code",
   "execution_count": null,
   "outputs": [],
   "source": [
    "# !sudo apt install cmake build-essential git python3.10-venv"
   ],
   "metadata": {
    "collapsed": false
   },
   "id": "initial_id"
  },
  {
   "cell_type": "code",
   "execution_count": null,
   "outputs": [],
   "source": [
    "# !pip3 install nglview\n",
    "# !pip3 install ase\n",
    "# !pip3 install matplotlib\n",
    "# !pip3 install mdanalysis\n",
    "# !pip3 install tidynamics"
   ],
   "metadata": {
    "colab": {
     "base_uri": "https://localhost:8080/"
    },
    "id": "2ba0e724de9c07ec",
    "outputId": "bf3b6dd2-7eba-48f9-e4c8-131ad6a9d5e9"
   },
   "id": "2ba0e724de9c07ec"
  },
  {
   "cell_type": "code",
   "source": [
    "# from google.colab import output\n",
    "# output.enable_custom_widget_manager()"
   ],
   "metadata": {
    "id": "FyyYFB1MXviC"
   },
   "id": "FyyYFB1MXviC",
   "execution_count": null,
   "outputs": []
  },
  {
   "cell_type": "code",
   "execution_count": null,
   "id": "2e5824288ebf50ce",
   "metadata": {
    "colab": {
     "base_uri": "https://localhost:8080/"
    },
    "id": "2e5824288ebf50ce",
    "outputId": "2e57aeec-d472-46a8-d5c7-fd3a84c8bf95"
   },
   "outputs": [],
   "source": [
    "# !rm -rf lammps\n",
    "# !git clone -b stable --depth=1 https://github.com/lammps/lammps.git lammps"
   ]
  },
  {
   "cell_type": "code",
   "execution_count": null,
   "id": "99886c4f88f3e7c7",
   "metadata": {
    "colab": {
     "base_uri": "https://localhost:8080/"
    },
    "id": "99886c4f88f3e7c7",
    "outputId": "697b2952-3763-4427-b9a4-8bd861a057e0"
   },
   "outputs": [],
   "source": [
    "# !rm -rf build\n",
    "# !mkdir build\n",
    "# !cd build; cmake ./../lammps/cmake -D CMAKE_INSTALL_PREFIX=/usr -D BUILD_SHARED_LIBS=on -D LAMMPS_EXCEPTIONS=on -DPYTHON_EXECUTABLE=$(which python3) -D PKG_PYTHON=on -D BUILD_LIB=yes -D BUILD_SHARED_LIBS=yes -D PKG_KSPACE=YES -D PKG_MISC=YES -D PKG_RIGID=YES -D PKG_MOLECULE=YES -D PKG_DIELECTRIC=YES -D PKG_DIPOLE=YES -D PKG_EXTRA-PAIR=YES ; make -j 6"
   ]
  },
  {
   "cell_type": "code",
   "execution_count": null,
   "id": "6f953ae641adec87",
   "metadata": {
    "colab": {
     "base_uri": "https://localhost:8080/"
    },
    "id": "6f953ae641adec87",
    "outputId": "5953ba5d-e295-43aa-d470-170691051570"
   },
   "outputs": [],
   "source": [
    "# !cd build; make install-python"
   ]
  },
  {
   "cell_type": "markdown",
   "source": [
    "Now we start the LAMMPS python interface"
   ],
   "metadata": {
    "collapsed": false
   },
   "id": "3b476e70c2a47cb8"
  },
  {
   "cell_type": "code",
   "execution_count": null,
   "id": "d8df2902bc849cf9",
   "metadata": {
    "id": "d8df2902bc849cf9"
   },
   "outputs": [],
   "source": [
    "import random\n",
    "import numpy as np\n",
    "import matplotlib.pyplot as plt #import required modules"
   ]
  },
  {
   "cell_type": "code",
   "execution_count": null,
   "id": "7d4dcd9dab7fafa7",
   "metadata": {
    "colab": {
     "base_uri": "https://localhost:8080/"
    },
    "id": "7d4dcd9dab7fafa7",
    "outputId": "3c0e10d3-477f-43e3-a4e5-3312f663397c"
   },
   "outputs": [],
   "source": [
    "from lammps import PyLammps #start lammps python interface\n",
    "L = PyLammps()"
   ]
  },
  {
   "cell_type": "code",
   "execution_count": null,
   "id": "7716a0fa4fd0eafd",
   "metadata": {
    "colab": {
     "base_uri": "https://localhost:8080/"
    },
    "id": "7716a0fa4fd0eafd",
    "outputId": "44d5613e-8bbd-49e2-dd3c-c38365d3bd74"
   },
   "outputs": [],
   "source": [
    "L.clear() #restart lammps"
   ]
  },
  {
   "cell_type": "code",
   "execution_count": null,
   "id": "4e7a8b3da73b4653",
   "metadata": {
    "id": "4e7a8b3da73b4653"
   },
   "outputs": [],
   "source": [
    "dt = 0.001 #timestep in ps\n",
    "numsteps = 100000 # number of timesteps to run for our calculation\n",
    "camass = 40.078 #mass of calcium in au\n",
    "fmass = 18.998 #mass of fluorine in au\n",
    "cacharge = 2 #mass of calcium in au\n",
    "fcharge = -1 #mass of fluorine in au\n",
    "temperature = 3000 #temperature in kelvin\n",
    "inittemp = temperature\n",
    "starttemp = temperature\n",
    "endtemp = temperature\n",
    "tDamp = 0.1 #temperature damping time in ps (100x timestep is a good starting point\n",
    "inputfile = 'caf2.lmpdat' #input file with coordinates"
   ]
  },
  {
   "cell_type": "code",
   "execution_count": null,
   "id": "322fdce1927b559f",
   "metadata": {
    "id": "322fdce1927b559f"
   },
   "outputs": [],
   "source": [
    "########potential parameters#########\n",
    "cutoff = 10 #cutoff distance of LJ potential\n",
    "###First for Ca-Ca\n",
    "cacae = 0.08 # 0.02\n",
    "cacasig = 4.10 #3.82\n",
    "###Then for Ca-F\n",
    "cafe = 0.03\n",
    "cafsig = 2.4"
   ]
  },
  {
   "cell_type": "code",
   "execution_count": null,
   "id": "b4416e20377cb465",
   "metadata": {
    "colab": {
     "base_uri": "https://localhost:8080/"
    },
    "id": "b4416e20377cb465",
    "outputId": "b1eeb951-7423-4e9c-a68a-d4acbc512abc"
   },
   "outputs": [],
   "source": [
    "L.clear() #restart lammps"
   ]
  },
  {
   "cell_type": "code",
   "execution_count": null,
   "id": "434198662ca21fcf",
   "metadata": {
    "id": "434198662ca21fcf"
   },
   "outputs": [],
   "source": [
    "L.units('metal') #choose which units > mass = grams/mole / distance = Angstroms / time = picoseconds / energy = eV / temperature = Kelvin\n",
    "L.dimension('3') #number of dimensions for simulation\n",
    "L.boundary('p', 'p', 'p') # periodicity of your unit-cell p = periodic\n",
    "L.atom_style('charge') # choose atom type"
   ]
  },
  {
   "cell_type": "code",
   "execution_count": null,
   "id": "a26500e0f9a6cbd0",
   "metadata": {
    "colab": {
     "base_uri": "https://localhost:8080/"
    },
    "id": "a26500e0f9a6cbd0",
    "outputId": "ca15adb6-f4ff-418b-aa56-f8872ac76dc3"
   },
   "outputs": [],
   "source": [
    "L.read_data(inputfile) # read input file"
   ]
  },
  {
   "cell_type": "code",
   "execution_count": null,
   "id": "387acac5255e1868",
   "metadata": {
    "colab": {
     "base_uri": "https://localhost:8080/",
     "height": 35
    },
    "id": "387acac5255e1868",
    "outputId": "410047af-2ea9-4f3c-d159-19cef07957c8"
   },
   "outputs": [],
   "source": [
    "L.replicate('1', '1', '1') # replicate once in each direction (no change)\n",
    "L.mass('1', camass) # set mass of atom 1\n",
    "L.mass('2', fmass) # set mass of atom 2\n",
    "L.set('type', '1', 'charge', cacharge) #set charge of atom 1\n",
    "L.set('type', '2', 'charge', fcharge) #set charge of atom 2\n",
    "L.group('ca', 'type', '1') #set atom 1 to be called 'ca'\n",
    "L.group('f', 'type', '2') #set atom 2 to be called 'f'"
   ]
  },
  {
   "cell_type": "code",
   "execution_count": null,
   "id": "a9bc989cb68d3110",
   "metadata": {
    "id": "a9bc989cb68d3110"
   },
   "outputs": [],
   "source": [
    "L.neighbor('3.0', 'bin') #build a neighbour list\n",
    "L.neigh_modify('every', '1', 'delay', '0', 'check', 'yes', 'one', '1000') #update the neighbour list every timestep\n",
    "L.pair_style('lj/cut/coul/long', cutoff) # state the potential to be LJ with coulombic forces\n",
    "L.kspace_style('pppm', '1.0e-4')  # how to sample periodicity of coulomb forces"
   ]
  },
  {
   "cell_type": "code",
   "execution_count": null,
   "id": "50e865f0e80be7fd",
   "metadata": {
    "id": "50e865f0e80be7fd"
   },
   "outputs": [],
   "source": [
    "L.pair_coeff('1', '1', cacae, cacasig, cutoff) #set pairwise potential\n",
    "L.pair_coeff('1', '2', cafe, cafsig, cutoff) #set pairwise potential\n",
    "L.pair_coeff('2', '2', '0', '1', cutoff) #set pairwise potential"
   ]
  },
  {
   "cell_type": "code",
   "execution_count": null,
   "id": "d02e707d5a91540c",
   "metadata": {
    "id": "d02e707d5a91540c"
   },
   "outputs": [],
   "source": [
    "L.timestep(dt) #set the timestep\n",
    "L.velocity('all', 'create', inittemp, random.randrange(1000)) #set initial velocities (instantaneous temperature) with RNG"
   ]
  },
  {
   "cell_type": "code",
   "execution_count": null,
   "id": "dd393e512fb3dc93",
   "metadata": {
    "id": "dd393e512fb3dc93"
   },
   "outputs": [],
   "source": [
    "L.variable('varVolume', 'equal', 'vol') #set volume to a variable that can be printed out\n",
    "L.thermo_style('custom', 'step', 'time', 'temp', 'pe', 'etotal', 'enthalpy', 'press', 'vol', 'lx', 'ly', 'lz') #choose print out parameters\n",
    "L.thermo_modify('format', '4', '%20.15g') #choose format (sig figs) of print outs"
   ]
  },
  {
   "cell_type": "markdown",
   "source": [
    "Now we do our first calculation. We optimise the unitcell to its most stable structure"
   ],
   "metadata": {
    "collapsed": false
   },
   "id": "2279fac29e4246ec"
  },
  {
   "cell_type": "code",
   "execution_count": null,
   "id": "cad1ad08e75124e5",
   "metadata": {
    "id": "cad1ad08e75124e5"
   },
   "outputs": [],
   "source": [
    "L.fix('1', 'all', 'box/relax', 'iso', '1.0', 'vmax', '0.001') #allow unit cell to relax\n",
    "L.min_style('cg') #choose algorithm for optimisation (conjugate gradient)\n",
    "L.minimize('1e-20', '1e-20', '1000', '1000') #run optimisation\n",
    "L.unfix('1') #remove fix - don't need anymore"
   ]
  },
  {
   "cell_type": "code",
   "execution_count": null,
   "id": "3f2a8be9bc136877",
   "metadata": {
    "colab": {
     "base_uri": "https://localhost:8080/"
    },
    "id": "3f2a8be9bc136877",
    "outputId": "2c021e53-8b68-42f0-a619-aa6779d6e142"
   },
   "outputs": [],
   "source": [
    "L.write_data('structure.data') #write out optimised structure to a file"
   ]
  },
  {
   "cell_type": "code",
   "execution_count": null,
   "id": "6579173f1e204ea6",
   "metadata": {
    "id": "6579173f1e204ea6"
   },
   "outputs": [],
   "source": [
    "L.variable('celllength', 'equal', 'lx') #make new variable to print out"
   ]
  },
  {
   "cell_type": "code",
   "execution_count": null,
   "id": "45e7bdda2b77eafe",
   "metadata": {
    "colab": {
     "base_uri": "https://localhost:8080/"
    },
    "id": "45e7bdda2b77eafe",
    "outputId": "883ff6e9-2a98-47ef-99ef-5d4ea90c76f5"
   },
   "outputs": [],
   "source": [
    "print('unit cell length =', L.variables['celllength'].value, 'A and should be close to experimental 16.548155 A') #check with experimental unit cel to see if our potential is reasonable"
   ]
  },
  {
   "cell_type": "code",
   "execution_count": null,
   "id": "4fc7b467fea838e8",
   "metadata": {
    "colab": {
     "base_uri": "https://localhost:8080/"
    },
    "id": "4fc7b467fea838e8",
    "outputId": "8ccd0582-cff9-49a2-8954-221e45fe9161"
   },
   "outputs": [],
   "source": [
    "L.fix('1', 'all', 'nvt', 'temp', starttemp, endtemp, tDamp) #set the system under the nvt ensemble at our designated temperature\n",
    "L.fix('2', 'all', 'momentum', '100', 'linear', '1 1 1') #don't allow the system to just move all together (not physical)\n",
    "L.run(10000) #equilibriate the system"
   ]
  },
  {
   "cell_type": "code",
   "execution_count": null,
   "id": "682eabad7f03f7a8",
   "metadata": {
    "id": "682eabad7f03f7a8"
   },
   "outputs": [],
   "source": [
    "######Can calculate MSD within lammps but it is mega bugged#######\n",
    "# L.variable('msd4all', 'equal', 'c_allMSD[4]')\n",
    "# L.variable('msd4f', 'equal', 'c_fMSD[4]')\n",
    "# L.variable('msd4ca', 'equal', 'c_caMSD[4]')"
   ]
  },
  {
   "cell_type": "code",
   "execution_count": null,
   "id": "f042ca15c9dc9e26",
   "metadata": {
    "id": "f042ca15c9dc9e26"
   },
   "outputs": [],
   "source": [
    "L.dump('traj_xyz all custom 100 caf2.lammpsdump id type mass xu yu zu fx fy fz vx vy vz') #write out trajectory to a file\n",
    "L.dump_modify('traj_xyz element F Ca sort id') #sort file by element"
   ]
  },
  {
   "cell_type": "code",
   "execution_count": null,
   "id": "35ea125de50bd74d",
   "metadata": {
    "colab": {
     "base_uri": "https://localhost:8080/"
    },
    "id": "35ea125de50bd74d",
    "outputId": "dcdf8ef4-9512-4821-ae2f-200153174d5f"
   },
   "outputs": [],
   "source": [
    "L.run(numsteps) #run our calculation"
   ]
  },
  {
   "cell_type": "code",
   "execution_count": null,
   "id": "c6a62e7c0cb1aeba",
   "metadata": {
    "id": "c6a62e7c0cb1aeba"
   },
   "outputs": [],
   "source": [
    "#######would use if not bugged###########\n",
    "# print('msd for f=', L.variables['msd4f'].value, 'A^2/ps')\n",
    "# print('msd for ca=', L.variables['msd4ca'].value, 'A^2/ps')"
   ]
  },
  {
   "cell_type": "markdown",
   "source": [
    "Now we perform analysis to find the MSD (Mean Squared Displacement) of our ions."
   ],
   "metadata": {
    "collapsed": false
   },
   "id": "bbcb7ff3ebc6bdb6"
  },
  {
   "cell_type": "code",
   "execution_count": null,
   "id": "6bf4148c3c20c136",
   "metadata": {
    "colab": {
     "base_uri": "https://localhost:8080/"
    },
    "id": "6bf4148c3c20c136",
    "outputId": "56e31e70-9027-4bc2-9de6-1ae328c2f63b"
   },
   "outputs": [],
   "source": [
    "#####import tools#####\n",
    "import MDAnalysis as mda\n",
    "import MDAnalysis.analysis.msd as msd"
   ]
  },
  {
   "cell_type": "code",
   "execution_count": null,
   "id": "fd44e0a4a2f73db8",
   "metadata": {
    "colab": {
     "base_uri": "https://localhost:8080/"
    },
    "id": "fd44e0a4a2f73db8",
    "outputId": "2b8f9d57-86e2-4f56-940a-d77893d20523"
   },
   "outputs": [],
   "source": [
    "u = mda.Universe('caf2.lammpsdump', atom_style=\"id type x y z fx fy fz vx vy vz\", lengthunit=\"a\", timeunit=\"fs\")\n",
    "MSDF = msd.EinsteinMSD(u, select='type 2', msd_type='xyz', fft=True) #type 1 is ca 2 is f\n",
    "MSDCa = msd.EinsteinMSD(u, select='type 1', msd_type='xyz', fft=True) #type 1 is ca 2 is f\n",
    "MSDF.run()\n",
    "MSDCa.run()"
   ]
  },
  {
   "cell_type": "markdown",
   "source": [
    "Now we plot out our results"
   ],
   "metadata": {
    "collapsed": false
   },
   "id": "3b16e11b6c053493"
  },
  {
   "cell_type": "code",
   "execution_count": null,
   "id": "755040c1f6421c13",
   "metadata": {
    "colab": {
     "base_uri": "https://localhost:8080/",
     "height": 468
    },
    "id": "755040c1f6421c13",
    "outputId": "00c12428-253c-4cd5-c7d5-1fa300f9b22c"
   },
   "outputs": [],
   "source": [
    "msdf =  MSDF.results.timeseries\n",
    "msdca = MSDCa.results.timeseries\n",
    "nframesf = MSDF.n_frames\n",
    "nframesca = MSDCa.n_frames\n",
    "timestep = 100  # this needs to be the actual time between frames\n",
    "lagtimesf = np.arange(nframesf) * timestep  # make the lag-time axis\n",
    "lagtimesca = np.arange(nframesca) * timestep  # make the lag-time axis\n",
    "\n",
    "fig = plt.figure()\n",
    "ax = plt.axes()\n",
    "# plot the actual MSD\n",
    "ax.plot(lagtimesf, msdf, ls=\"-\", label=r'F')\n",
    "exactf = lagtimesca * 6\n",
    "\n",
    "ax.plot(lagtimesca, msdca, ls=\"-\", label=r'Ca')\n",
    "exactca = lagtimesca * 6\n",
    "\n",
    "# plot the exact result\n",
    "plt.xlabel('$Time (fs)$')\n",
    "plt.ylabel('$MSD (\\AA^2)$')\n",
    "\n",
    "slopef, interceptf = np.polyfit((exactf), (msdf), 1)\n",
    "slopeca, interceptca = np.polyfit((exactca), (msdca), 1)\n",
    "slopecorrectedf = slopef * 1000\n",
    "slopecorrectedca = slopeca * 1000\n",
    "\n",
    "plt.text(50, 75, (\"Diffusion coefficient F = \" + str(round(slopecorrectedf, 4)) + \" × $10^{-5}$ cm$^2$/s\"))\n",
    "plt.text(50, 400, (\"Diffusion coefficient Ca = \" + str(round(slopecorrectedca, 4)) + \" × $10^{-5}$ cm$^2$/s\"))\n",
    "\n",
    "print(\"Diffusion coefficient F = \" + str(slopecorrectedf) + \" cm^2/s\")\n",
    "print(\"Diffusion coefficient Ca = \" + str(slopecorrectedca) + \" cm^2/s\")"
   ]
  },
  {
   "cell_type": "markdown",
   "source": [
    "Now we can view our trajectory as an animation"
   ],
   "metadata": {
    "collapsed": false
   },
   "id": "fb9c4d9829be088e"
  },
  {
   "cell_type": "code",
   "execution_count": null,
   "outputs": [],
   "source": [
    "import nglview as nv\n",
    "from ase.io import read"
   ],
   "metadata": {
    "colab": {
     "base_uri": "https://localhost:8080/",
     "height": 17,
     "referenced_widgets": [
      "76528b44c0fb4296928baef2f3ea4eda"
     ]
    },
    "id": "df790d85ebbce626",
    "outputId": "5f05fc90-a832-4114-ace8-df7f91dfa6d4"
   },
   "id": "df790d85ebbce626"
  },
  {
   "cell_type": "code",
   "execution_count": null,
   "outputs": [],
   "source": [
    "atoms = read('caf2.lammpsdump', index=':', specorder=[7, 20])"
   ],
   "metadata": {
    "id": "d16c9568d240e8f1"
   },
   "id": "d16c9568d240e8f1"
  },
  {
   "cell_type": "code",
   "execution_count": null,
   "outputs": [],
   "source": [
    "view = nv.show_asetraj(atoms)"
   ],
   "metadata": {
    "id": "53f19fb9e65b9c97"
   },
   "id": "53f19fb9e65b9c97"
  },
  {
   "cell_type": "code",
   "execution_count": null,
   "outputs": [],
   "source": [
    "view.clear_representations()\n",
    "view.add_unitcell(selections='all')\n",
    "view.add_spacefill(selections='all')\n",
    "view.update_representation()"
   ],
   "metadata": {
    "id": "ba7e23038bf3d913"
   },
   "id": "ba7e23038bf3d913"
  },
  {
   "cell_type": "code",
   "execution_count": null,
   "outputs": [],
   "source": [
    "view"
   ],
   "metadata": {
    "colab": {
     "base_uri": "https://localhost:8080/",
     "height": 317,
     "referenced_widgets": [
      "ece760ed7c624e97948fcb30ab534d49",
      "d50040af5dd748df9ccbef2fdea84463",
      "4f813c32045445eea51793d65fe901a4",
      "d9e0ba5f3d7e4e4bb7b268c3db15280f",
      "afde71f45a084b8da8c1593e22f53afb",
      "c10d69ec1a364517b1b18808fae8c5d4",
      "9c467ef08d034b998b71632ea457c573",
      "2471037a6d4c46dd887609e814c9c4bc",
      "a6f3c338a62b457aa5f2e87fb288281b",
      "90396c7aae98479b80df8010bb8a3dde",
      "a59fd176fb0542c5a9a3ad052ad7d717",
      "424836d60bff4250873824c0ca489cec",
      "edffbc1c4e0b4a3193e75f8fc3636b68"
     ]
    },
    "id": "50ed7a1b062f7c25",
    "outputId": "0e81e349-7933-4802-eb62-a4a84d799e5f"
   },
   "id": "50ed7a1b062f7c25"
  },
  {
   "cell_type": "markdown",
   "source": [
    "1. Consider the system at a series of temperatures (300K, 500K, 1000K, 1500K, 2000K, 2500K, 3000K). Plot the diffusion coefficients of the ions as a function of temperature. Comment on how the diffusion coefficient changes for the two different ions at various temperatures.\n",
    "2. Read the lammps documentation and change the ensemble from NVT to NPT. Calculate the diffusion coefficient at 2000K. Comment on the difference of the diffusion coefficient for the NVT vs the NPT ensemble. If the diffusion coefficient of a material is wanted for 'real world' applications, which ensemble should be used and why? Suggest a scenario where the NVT ensemble describes the system of study well."
   ],
   "metadata": {
    "collapsed": false
   },
   "id": "a281df630fea10ca"
  }
 ],
 "metadata": {
  "kernelspec": {
   "display_name": "Python 3 (ipykernel)",
   "language": "python",
   "name": "python3"
  },
  "language_info": {
   "codemirror_mode": {
    "name": "ipython",
    "version": 3
   },
   "file_extension": ".py",
   "mimetype": "text/x-python",
   "name": "python",
   "nbconvert_exporter": "python",
   "pygments_lexer": "ipython3",
   "version": "3.11.4"
  },
  "colab": {
   "provenance": []
  },
  "widgets": {
   "application/vnd.jupyter.widget-state+json": {
    "76528b44c0fb4296928baef2f3ea4eda": {
     "model_module": "nglview-js-widgets",
     "model_name": "ColormakerRegistryModel",
     "model_module_version": "3.0.8",
     "state": {
      "_dom_classes": [],
      "_model_module": "nglview-js-widgets",
      "_model_module_version": "3.0.8",
      "_model_name": "ColormakerRegistryModel",
      "_msg_ar": [],
      "_msg_q": [],
      "_ready": false,
      "_view_count": null,
      "_view_module": "nglview-js-widgets",
      "_view_module_version": "3.0.8",
      "_view_name": "ColormakerRegistryView",
      "layout": "IPY_MODEL_64df993528aa484fb54c4a2bd9563e38"
     }
    },
    "ece760ed7c624e97948fcb30ab534d49": {
     "model_module": "nglview-js-widgets",
     "model_name": "NGLModel",
     "model_module_version": "3.0.8",
     "state": {
      "_camera_orientation": [
       80.34347536805313,
       0,
       0,
       0,
       0,
       80.34347536805313,
       0,
       0,
       0,
       0,
       80.34347536805313,
       0,
       -9.47100019454956,
       -6.689000606536865,
       -8.746500015258789,
       1
      ],
      "_camera_str": "orthographic",
      "_dom_classes": [],
      "_gui_theme": null,
      "_ibtn_fullscreen": "IPY_MODEL_4f813c32045445eea51793d65fe901a4",
      "_igui": null,
      "_iplayer": "IPY_MODEL_d9e0ba5f3d7e4e4bb7b268c3db15280f",
      "_model_module": "nglview-js-widgets",
      "_model_module_version": "3.0.8",
      "_model_name": "NGLModel",
      "_ngl_color_dict": {},
      "_ngl_coordinate_resource": {},
      "_ngl_full_stage_parameters": {
       "impostor": true,
       "quality": "medium",
       "workerDefault": true,
       "sampleLevel": 0,
       "backgroundColor": "white",
       "rotateSpeed": 2,
       "zoomSpeed": 1.2,
       "panSpeed": 1,
       "clipNear": 0,
       "clipFar": 100,
       "clipDist": 10,
       "clipMode": "scene",
       "clipScale": "relative",
       "fogNear": 50,
       "fogFar": 100,
       "cameraFov": 40,
       "cameraEyeSep": 0.3,
       "cameraType": "perspective",
       "lightColor": 14540253,
       "lightIntensity": 1,
       "ambientColor": 14540253,
       "ambientIntensity": 0.2,
       "hoverTimeout": 0,
       "tooltip": true,
       "mousePreset": "default"
      },
      "_ngl_msg_archive": [
       {
        "target": "Stage",
        "type": "call_method",
        "methodName": "loadFile",
        "reconstruc_color_scheme": false,
        "args": [
         {
          "type": "blob",
          "data": "CRYST1   16.516   16.516   16.516  90.00  90.00  90.00 P 1\nMODEL     1\nATOM      1    N MOL     1       0.715  -0.466  -0.216  1.00  0.00           N  \nATOM      2    N MOL     1       0.451   2.805   2.673  1.00  0.00           N  \nATOM      3    N MOL     1       2.933  -0.439   2.653  1.00  0.00           N  \nATOM      4    N MOL     1       3.027   2.500  -0.009  1.00  0.00           N  \nATOM      5   Ca MOL     1       8.083  10.104   5.715  1.00  0.00          CA  \nATOM      6   Ca MOL     1       1.211   5.214   1.726  1.00  0.00          CA  \nATOM      7   Ca MOL     1       4.321 -12.381   0.576  1.00  0.00          CA  \nATOM      8   Ca MOL     1       0.855  -0.601   2.211  1.00  0.00          CA  \nATOM      9   Ca MOL     1       3.046  16.203   5.081  1.00  0.00          CA  \nATOM     10   Ca MOL     1      -2.208   0.726   4.903  1.00  0.00          CA  \nATOM     11   Ca MOL     1       9.988  -1.664   9.806  1.00  0.00          CA  \nATOM     12   Ca MOL     1       6.823   1.282   4.257  1.00  0.00          CA  \nATOM     13    N MOL     1      -0.376  -0.464   4.536  1.00  0.00           N  \nATOM     14    N MOL     1      -0.441   2.736   7.913  1.00  0.00           N  \nATOM     15    N MOL     1       2.716  -1.128   8.380  1.00  0.00           N  \nATOM     16    N MOL     1       2.335   2.132   5.780  1.00  0.00           N  \nATOM     17   Ca MOL     1       5.592   5.092   8.479  1.00  0.00          CA  \nATOM     18   Ca MOL     1      -7.503   5.224  10.892  1.00  0.00          CA  \nATOM     19   Ca MOL     1      -7.555   5.296  16.358  1.00  0.00          CA  \nATOM     20   Ca MOL     1       2.062   6.224  10.049  1.00  0.00          CA  \nATOM     21   Ca MOL     1       3.829   1.068   4.649  1.00  0.00          CA  \nATOM     22   Ca MOL     1       7.236  -3.694   7.028  1.00  0.00          CA  \nATOM     23   Ca MOL     1      -8.214  14.581  19.434  1.00  0.00          CA  \nATOM     24   Ca MOL     1       6.553   3.524  15.633  1.00  0.00          CA  \nATOM     25    N MOL     1      -0.401  -0.285  10.549  1.00  0.00           N  \nATOM     26    N MOL     1       0.443   2.547  13.201  1.00  0.00           N  \nATOM     27    N MOL     1       2.831  -0.354  13.329  1.00  0.00           N  \nATOM     28    N MOL     1       3.033   2.029  10.254  1.00  0.00           N  \nATOM     29   Ca MOL     1       2.269  14.023  13.106  1.00  0.00          CA  \nATOM     30   Ca MOL     1       1.701   3.074   7.498  1.00  0.00          CA  \nATOM     31   Ca MOL     1       1.878  -0.545  10.490  1.00  0.00          CA  \nATOM     32   Ca MOL     1       1.988   0.913  14.951  1.00  0.00          CA  \nATOM     33   Ca MOL     1       7.449   3.152   7.001  1.00  0.00          CA  \nATOM     34   Ca MOL     1      -0.313   5.143  13.743  1.00  0.00          CA  \nATOM     35   Ca MOL     1       2.703   1.936  18.578  1.00  0.00          CA  \nATOM     36   Ca MOL     1       1.206  -1.489  14.611  1.00  0.00          CA  \nATOM     37    N MOL     1      -0.427   4.880  -0.325  1.00  0.00           N  \nATOM     38    N MOL     1       0.348   7.615   2.464  1.00  0.00           N  \nATOM     39    N MOL     1       3.354   5.517   2.155  1.00  0.00           N  \nATOM     40    N MOL     1       2.472   8.515  -0.505  1.00  0.00           N  \nATOM     41   Ca MOL     1      -2.320  10.056  -0.551  1.00  0.00          CA  \nATOM     42   Ca MOL     1       9.357   4.164   6.467  1.00  0.00          CA  \nATOM     43   Ca MOL     1      -0.421   7.613  -6.483  1.00  0.00          CA  \nATOM     44   Ca MOL     1      10.913   5.168  -3.643  1.00  0.00          CA  \nATOM     45   Ca MOL     1      -2.832  11.437   1.195  1.00  0.00          CA  \nATOM     46   Ca MOL     1       2.587   2.282  -3.841  1.00  0.00          CA  \nATOM     47   Ca MOL     1      12.488   7.422  -1.406  1.00  0.00          CA  \nATOM     48   Ca MOL     1       1.180  -1.286   6.753  1.00  0.00          CA  \nATOM     49    N MOL     1       0.764   5.931   5.552  1.00  0.00           N  \nATOM     50    N MOL     1       0.123   8.856   7.740  1.00  0.00           N  \nATOM     51    N MOL     1       3.042   4.824   8.185  1.00  0.00           N  \nATOM     52    N MOL     1       3.513   8.241   5.039  1.00  0.00           N  \nATOM     53   Ca MOL     1      -2.866   8.045  12.950  1.00  0.00          CA  \nATOM     54   Ca MOL     1       4.031   7.143  14.486  1.00  0.00          CA  \nATOM     55   Ca MOL     1       6.697  -1.062   7.498  1.00  0.00          CA  \nATOM     56   Ca MOL     1       8.225   8.506  19.525  1.00  0.00          CA  \nATOM     57   Ca MOL     1       3.333  10.821  10.223  1.00  0.00          CA  \nATOM     58   Ca MOL     1       7.123   6.355   1.223  1.00  0.00          CA  \nATOM     59   Ca MOL     1      10.701   3.287  10.256  1.00  0.00          CA  \nATOM     60   Ca MOL     1       4.587  11.089  12.997  1.00  0.00          CA  \nATOM     61    N MOL     1      -0.122   5.240  10.357  1.00  0.00           N  \nATOM     62    N MOL     1       0.080   7.530  13.652  1.00  0.00           N  \nATOM     63    N MOL     1       2.838   4.887  14.085  1.00  0.00           N  \nATOM     64    N MOL     1       2.308   8.953  10.522  1.00  0.00           N  \nATOM     65   Ca MOL     1       9.160  11.284  11.173  1.00  0.00          CA  \nATOM     66   Ca MOL     1      -5.698   4.941  19.336  1.00  0.00          CA  \nATOM     67   Ca MOL     1      -6.655  -2.203   0.090  1.00  0.00          CA  \nATOM     68   Ca MOL     1      -3.642  20.476  14.991  1.00  0.00          CA  \nATOM     69   Ca MOL     1       8.632   5.758   4.364  1.00  0.00          CA  \nATOM     70   Ca MOL     1       1.586  13.197  19.814  1.00  0.00          CA  \nATOM     71   Ca MOL     1      -5.849   5.116  25.010  1.00  0.00          CA  \nATOM     72   Ca MOL     1       5.255   3.120  22.687  1.00  0.00          CA  \nATOM     73    N MOL     1      -0.333  11.098   0.307  1.00  0.00           N  \nATOM     74    N MOL     1      -0.093  13.887   2.191  1.00  0.00           N  \nATOM     75    N MOL     1       3.005  11.174   2.080  1.00  0.00           N  \nATOM     76    N MOL     1       3.036  13.555  -0.670  1.00  0.00           N  \nATOM     77   Ca MOL     1       1.170  19.644  -1.351  1.00  0.00          CA  \nATOM     78   Ca MOL     1      -1.593   9.695   5.127  1.00  0.00          CA  \nATOM     79   Ca MOL     1      -6.095   9.748   1.464  1.00  0.00          CA  \nATOM     80   Ca MOL     1       4.386  19.981   9.542  1.00  0.00          CA  \nATOM     81   Ca MOL     1       0.572  14.793   9.064  1.00  0.00          CA  \nATOM     82   Ca MOL     1       1.122  11.647  -1.024  1.00  0.00          CA  \nATOM     83   Ca MOL     1       9.181  12.891   7.037  1.00  0.00          CA  \nATOM     84   Ca MOL     1      -2.571   8.060   8.222  1.00  0.00          CA  \nATOM     85    N MOL     1       0.205  10.920   4.475  1.00  0.00           N  \nATOM     86    N MOL     1      -0.140  13.558   7.239  1.00  0.00           N  \nATOM     87    N MOL     1       2.790  11.176   7.364  1.00  0.00           N  \nATOM     88    N MOL     1       3.147  13.624   5.221  1.00  0.00           N  \nATOM     89   Ca MOL     1       1.569  12.153   8.984  1.00  0.00          CA  \nATOM     90   Ca MOL     1       3.076   9.010  13.181  1.00  0.00          CA  \nATOM     91   Ca MOL     1      -4.907  10.898  14.134  1.00  0.00          CA  \nATOM     92   Ca MOL     1       0.749  13.569   0.073  1.00  0.00          CA  \nATOM     93   Ca MOL     1      -2.609  18.191   8.576  1.00  0.00          CA  \nATOM     94   Ca MOL     1       5.396  15.324  -3.776  1.00  0.00          CA  \nATOM     95   Ca MOL     1      14.192  15.364  11.572  1.00  0.00          CA  \nATOM     96   Ca MOL     1       2.253  13.320   7.329  1.00  0.00          CA  \nATOM     97    N MOL     1      -0.851  11.492  10.755  1.00  0.00           N  \nATOM     98    N MOL     1      -0.377  13.395  14.009  1.00  0.00           N  \nATOM     99    N MOL     1       1.980  10.936  13.727  1.00  0.00           N  \nATOM    100    N MOL     1       1.880  13.273  10.900  1.00  0.00           N  \nATOM    101   Ca MOL     1       2.965   3.759  19.997  1.00  0.00          CA  \nATOM    102   Ca MOL     1      -4.071   6.863  18.043  1.00  0.00          CA  \nATOM    103   Ca MOL     1       3.210  10.505  16.187  1.00  0.00          CA  \nATOM    104   Ca MOL     1      -4.152  17.148  17.327  1.00  0.00          CA  \nATOM    105   Ca MOL     1      -0.336  11.344  13.070  1.00  0.00          CA  \nATOM    106   Ca MOL     1      12.208   6.842  23.306  1.00  0.00          CA  \nATOM    107   Ca MOL     1       6.479  14.087  16.829  1.00  0.00          CA  \nATOM    108   Ca MOL     1       6.181  17.230  13.090  1.00  0.00          CA  \nATOM    109    N MOL     1       5.736  -0.306  -0.232  1.00  0.00           N  \nATOM    110    N MOL     1       4.963   2.473   2.718  1.00  0.00           N  \nATOM    111    N MOL     1       7.729   0.213   2.580  1.00  0.00           N  \nATOM    112    N MOL     1       8.185   1.974  -0.528  1.00  0.00           N  \nATOM    113   Ca MOL     1      -3.009   5.191   5.209  1.00  0.00          CA  \nATOM    114   Ca MOL     1       4.865  -1.622  -1.710  1.00  0.00          CA  \nATOM    115   Ca MOL     1      12.840   3.694   0.817  1.00  0.00          CA  \nATOM    116   Ca MOL     1      12.622  -5.151   5.455  1.00  0.00          CA  \nATOM    117   Ca MOL     1       1.275   5.095  -3.928  1.00  0.00          CA  \nATOM    118   Ca MOL     1       6.671  11.703   9.587  1.00  0.00          CA  \nATOM    119   Ca MOL     1      15.139   6.174   1.753  1.00  0.00          CA  \nATOM    120   Ca MOL     1       6.963   6.273  11.580  1.00  0.00          CA  \nATOM    121    N MOL     1       5.333   0.022   5.886  1.00  0.00           N  \nATOM    122    N MOL     1       5.814   2.746   8.104  1.00  0.00           N  \nATOM    123    N MOL     1       8.439  -0.359   8.564  1.00  0.00           N  \nATOM    124    N MOL     1       8.289   2.711   5.171  1.00  0.00           N  \nATOM    125   Ca MOL     1       9.421   1.694   3.696  1.00  0.00          CA  \nATOM    126   Ca MOL     1      12.546   9.563  12.229  1.00  0.00          CA  \nATOM    127   Ca MOL     1      -0.293  11.909   2.536  1.00  0.00          CA  \nATOM    128   Ca MOL     1       2.344   6.406   4.251  1.00  0.00          CA  \nATOM    129   Ca MOL     1       3.544   1.022   7.248  1.00  0.00          CA  \nATOM    130   Ca MOL     1      11.437  13.235   5.011  1.00  0.00          CA  \nATOM    131   Ca MOL     1       3.054  -0.932  16.697  1.00  0.00          CA  \nATOM    132   Ca MOL     1       1.478   6.485  15.191  1.00  0.00          CA  \nATOM    133    N MOL     1       5.677  -0.254  10.705  1.00  0.00           N  \nATOM    134    N MOL     1       5.309   2.520  13.524  1.00  0.00           N  \nATOM    135    N MOL     1       7.858  -0.685  13.563  1.00  0.00           N  \nATOM    136    N MOL     1       8.575   2.640  11.267  1.00  0.00           N  \nATOM    137   Ca MOL     1      14.142  14.236  19.770  1.00  0.00          CA  \nATOM    138   Ca MOL     1       6.751   3.793  12.215  1.00  0.00          CA  \nATOM    139   Ca MOL     1      10.385  -6.279   7.260  1.00  0.00          CA  \nATOM    140   Ca MOL     1       5.105   0.064   8.379  1.00  0.00          CA  \nATOM    141   Ca MOL     1       9.770  -1.937  14.425  1.00  0.00          CA  \nATOM    142   Ca MOL     1       5.472   5.689  19.293  1.00  0.00          CA  \nATOM    143   Ca MOL     1       6.957   1.483   9.136  1.00  0.00          CA  \nATOM    144   Ca MOL     1       4.317   3.838  15.048  1.00  0.00          CA  \nATOM    145    N MOL     1       5.644   5.553  -0.486  1.00  0.00           N  \nATOM    146    N MOL     1       5.826   8.168   2.154  1.00  0.00           N  \nATOM    147    N MOL     1       8.520   4.986   2.272  1.00  0.00           N  \nATOM    148    N MOL     1       8.533   8.045  -0.239  1.00  0.00           N  \nATOM    149   Ca MOL     1       7.512  16.154   6.580  1.00  0.00          CA  \nATOM    150   Ca MOL     1       6.699   8.781  -1.952  1.00  0.00          CA  \nATOM    151   Ca MOL     1      -1.589  -3.500  -0.764  1.00  0.00          CA  \nATOM    152   Ca MOL     1      12.761  12.344  -1.025  1.00  0.00          CA  \nATOM    153   Ca MOL     1       8.839   7.111   8.631  1.00  0.00          CA  \nATOM    154   Ca MOL     1       4.075   1.204  -1.871  1.00  0.00          CA  \nATOM    155   Ca MOL     1       6.642   8.734  -5.091  1.00  0.00          CA  \nATOM    156   Ca MOL     1       6.599  12.255  12.349  1.00  0.00          CA  \nATOM    157    N MOL     1       5.571   5.143   5.388  1.00  0.00           N  \nATOM    158    N MOL     1       5.451   8.016   8.465  1.00  0.00           N  \nATOM    159    N MOL     1       8.267   5.037   8.150  1.00  0.00           N  \nATOM    160    N MOL     1       7.976   7.838   5.269  1.00  0.00           N  \nATOM    161   Ca MOL     1      14.957   6.702  14.860  1.00  0.00          CA  \nATOM    162   Ca MOL     1       3.755  13.116  17.838  1.00  0.00          CA  \nATOM    163   Ca MOL     1       7.876   8.942   9.622  1.00  0.00          CA  \nATOM    164   Ca MOL     1       0.380   8.848  -1.288  1.00  0.00          CA  \nATOM    165   Ca MOL     1       1.656   9.493   5.823  1.00  0.00          CA  \nATOM    166   Ca MOL     1       6.621   6.210   6.982  1.00  0.00          CA  \nATOM    167   Ca MOL     1       1.451  -4.286  22.215  1.00  0.00          CA  \nATOM    168   Ca MOL     1      -2.104   5.875  10.714  1.00  0.00          CA  \nATOM    169    N MOL     1       5.140   5.015  11.171  1.00  0.00           N  \nATOM    170    N MOL     1       5.420   7.914  13.140  1.00  0.00           N  \nATOM    171    N MOL     1       8.533   5.125  13.528  1.00  0.00           N  \nATOM    172    N MOL     1       8.451   7.560  10.940  1.00  0.00           N  \nATOM    173   Ca MOL     1      11.633  15.164  19.600  1.00  0.00          CA  \nATOM    174   Ca MOL     1       7.858  10.083  15.642  1.00  0.00          CA  \nATOM    175   Ca MOL     1      13.605  11.640  11.869  1.00  0.00          CA  \nATOM    176   Ca MOL     1      10.640  17.176   7.155  1.00  0.00          CA  \nATOM    177   Ca MOL     1      -1.158   1.161   2.694  1.00  0.00          CA  \nATOM    178   Ca MOL     1      14.039   5.554  15.555  1.00  0.00          CA  \nATOM    179   Ca MOL     1       8.902  12.829  13.484  1.00  0.00          CA  \nATOM    180   Ca MOL     1       7.286   3.936   9.790  1.00  0.00          CA  \nATOM    181    N MOL     1       5.836  10.568  -1.139  1.00  0.00           N  \nATOM    182    N MOL     1       6.062  13.426   2.570  1.00  0.00           N  \nATOM    183    N MOL     1       8.505  10.429   2.194  1.00  0.00           N  \nATOM    184    N MOL     1       8.113  13.605  -0.953  1.00  0.00           N  \nATOM    185   Ca MOL     1       9.174  17.067  10.652  1.00  0.00          CA  \nATOM    186   Ca MOL     1      12.295   7.360   9.529  1.00  0.00          CA  \nATOM    187   Ca MOL     1      21.819  16.836   2.071  1.00  0.00          CA  \nATOM    188   Ca MOL     1      12.750  17.276  -1.331  1.00  0.00          CA  \nATOM    189   Ca MOL     1      13.174  15.646   5.362  1.00  0.00          CA  \nATOM    190   Ca MOL     1       7.912  15.615   0.167  1.00  0.00          CA  \nATOM    191   Ca MOL     1      12.304  13.520   3.162  1.00  0.00          CA  \nATOM    192   Ca MOL     1      16.302   6.775   7.815  1.00  0.00          CA  \nATOM    193    N MOL     1       6.051  10.949   5.583  1.00  0.00           N  \nATOM    194    N MOL     1       5.848  13.465   8.421  1.00  0.00           N  \nATOM    195    N MOL     1       8.493  10.787   8.445  1.00  0.00           N  \nATOM    196    N MOL     1       8.055  14.372   5.411  1.00  0.00           N  \nATOM    197   Ca MOL     1      21.101  12.523   6.413  1.00  0.00          CA  \nATOM    198   Ca MOL     1       9.029  12.291   0.894  1.00  0.00          CA  \nATOM    199   Ca MOL     1      11.892   4.256  12.296  1.00  0.00          CA  \nATOM    200   Ca MOL     1      12.830  12.287   8.319  1.00  0.00          CA  \nATOM    201   Ca MOL     1       9.391  15.313   3.395  1.00  0.00          CA  \nATOM    202   Ca MOL     1      -0.017  13.474  11.660  1.00  0.00          CA  \nATOM    203   Ca MOL     1      13.430   0.113   9.585  1.00  0.00          CA  \nATOM    204   Ca MOL     1       5.660  15.405   3.660  1.00  0.00          CA  \nATOM    205    N MOL     1       5.287  10.622  10.924  1.00  0.00           N  \nATOM    206    N MOL     1       4.910  13.401  13.051  1.00  0.00           N  \nATOM    207    N MOL     1       8.344  10.438  13.414  1.00  0.00           N  \nATOM    208    N MOL     1       8.610  13.257  10.956  1.00  0.00           N  \nATOM    209   Ca MOL     1       4.984  18.102  10.754  1.00  0.00          CA  \nATOM    210   Ca MOL     1      -0.579  17.140   7.023  1.00  0.00          CA  \nATOM    211   Ca MOL     1       7.178  13.697  13.619  1.00  0.00          CA  \nATOM    212   Ca MOL     1      16.198  25.759  11.222  1.00  0.00          CA  \nATOM    213   Ca MOL     1       3.670  11.865  14.823  1.00  0.00          CA  \nATOM    214   Ca MOL     1      12.920   8.908  18.474  1.00  0.00          CA  \nATOM    215   Ca MOL     1      16.331  17.869  17.299  1.00  0.00          CA  \nATOM    216   Ca MOL     1      14.298  13.734   7.803  1.00  0.00          CA  \nATOM    217    N MOL     1      10.781  -0.052  -0.682  1.00  0.00           N  \nATOM    218    N MOL     1      11.343   2.240   2.338  1.00  0.00           N  \nATOM    219    N MOL     1      13.616   0.065   2.586  1.00  0.00           N  \nATOM    220    N MOL     1      14.011   2.008   0.018  1.00  0.00           N  \nATOM    221   Ca MOL     1      14.229  -3.796  13.101  1.00  0.00          CA  \nATOM    222   Ca MOL     1      18.798  10.737   4.211  1.00  0.00          CA  \nATOM    223   Ca MOL     1      11.496   3.332   4.198  1.00  0.00          CA  \nATOM    224   Ca MOL     1       9.905   0.611   1.101  1.00  0.00          CA  \nATOM    225   Ca MOL     1      17.850   0.846   3.822  1.00  0.00          CA  \nATOM    226   Ca MOL     1      14.665  -4.077  -7.517  1.00  0.00          CA  \nATOM    227   Ca MOL     1       9.620   3.159  -2.513  1.00  0.00          CA  \nATOM    228   Ca MOL     1      13.476   2.297   3.167  1.00  0.00          CA  \nATOM    229    N MOL     1      10.859   0.286   4.956  1.00  0.00           N  \nATOM    230    N MOL     1      11.037   2.729   7.702  1.00  0.00           N  \nATOM    231    N MOL     1      13.498  -0.272   7.323  1.00  0.00           N  \nATOM    232    N MOL     1      13.656   2.810   5.366  1.00  0.00           N  \nATOM    233   Ca MOL     1      20.843   6.278   9.570  1.00  0.00          CA  \nATOM    234   Ca MOL     1      14.625   1.859  12.233  1.00  0.00          CA  \nATOM    235   Ca MOL     1      20.650  -6.183   5.548  1.00  0.00          CA  \nATOM    236   Ca MOL     1      10.052  12.611   9.610  1.00  0.00          CA  \nATOM    237   Ca MOL     1      12.152   6.555   4.027  1.00  0.00          CA  \nATOM    238   Ca MOL     1      20.711   8.441  10.117  1.00  0.00          CA  \nATOM    239   Ca MOL     1      17.999  10.894  11.351  1.00  0.00          CA  \nATOM    240   Ca MOL     1       5.805   8.901   6.469  1.00  0.00          CA  \nATOM    241    N MOL     1      11.293  -0.470  10.886  1.00  0.00           N  \nATOM    242    N MOL     1      11.787   2.515  13.898  1.00  0.00           N  \nATOM    243    N MOL     1      14.206   0.178  13.575  1.00  0.00           N  \nATOM    244    N MOL     1      13.126   2.345  10.584  1.00  0.00           N  \nATOM    245   Ca MOL     1      10.293  11.592  18.119  1.00  0.00          CA  \nATOM    246   Ca MOL     1       2.799   6.882   6.596  1.00  0.00          CA  \nATOM    247   Ca MOL     1      16.369  -0.335  12.752  1.00  0.00          CA  \nATOM    248   Ca MOL     1      14.281   3.176  12.829  1.00  0.00          CA  \nATOM    249   Ca MOL     1      14.990   3.622  17.871  1.00  0.00          CA  \nATOM    250   Ca MOL     1       8.731   2.401  18.308  1.00  0.00          CA  \nATOM    251   Ca MOL     1      12.145  -3.293  11.561  1.00  0.00          CA  \nATOM    252   Ca MOL     1       7.919  12.058  20.307  1.00  0.00          CA  \nATOM    253    N MOL     1      11.551   5.279  -0.207  1.00  0.00           N  \nATOM    254    N MOL     1      10.786   7.706   2.921  1.00  0.00           N  \nATOM    255    N MOL     1      13.524   4.834   2.775  1.00  0.00           N  \nATOM    256    N MOL     1      14.041   7.564   0.163  1.00  0.00           N  \nATOM    257   Ca MOL     1      10.836   2.778   5.551  1.00  0.00          CA  \nATOM    258   Ca MOL     1      20.081   6.971   0.570  1.00  0.00          CA  \nATOM    259   Ca MOL     1       9.639   9.752  -1.254  1.00  0.00          CA  \nATOM    260   Ca MOL     1      10.613   9.213   9.983  1.00  0.00          CA  \nATOM    261   Ca MOL     1      16.151   8.055   5.495  1.00  0.00          CA  \nATOM    262   Ca MOL     1      20.300  12.771  -7.109  1.00  0.00          CA  \nATOM    263   Ca MOL     1      19.760   8.554   7.831  1.00  0.00          CA  \nATOM    264   Ca MOL     1      25.662   7.221  14.020  1.00  0.00          CA  \nATOM    265    N MOL     1      10.886   5.337   5.407  1.00  0.00           N  \nATOM    266    N MOL     1      10.828   7.990   7.931  1.00  0.00           N  \nATOM    267    N MOL     1      13.935   5.892   8.204  1.00  0.00           N  \nATOM    268    N MOL     1      14.094   7.195   5.136  1.00  0.00           N  \nATOM    269   Ca MOL     1      21.410   5.516  13.722  1.00  0.00          CA  \nATOM    270   Ca MOL     1      -0.114   2.060   4.779  1.00  0.00          CA  \nATOM    271   Ca MOL     1      19.932   8.160   2.569  1.00  0.00          CA  \nATOM    272   Ca MOL     1      11.636   9.073   4.645  1.00  0.00          CA  \nATOM    273   Ca MOL     1      16.474   7.960   0.261  1.00  0.00          CA  \nATOM    274   Ca MOL     1      17.838   9.545  18.303  1.00  0.00          CA  \nATOM    275   Ca MOL     1      15.490  18.611  14.947  1.00  0.00          CA  \nATOM    276   Ca MOL     1      12.176  14.993   8.728  1.00  0.00          CA  \nATOM    277    N MOL     1      11.263   5.469  10.465  1.00  0.00           N  \nATOM    278    N MOL     1      11.221   8.035  12.804  1.00  0.00           N  \nATOM    279    N MOL     1      14.075   5.571  13.248  1.00  0.00           N  \nATOM    280    N MOL     1      13.967   8.093  10.704  1.00  0.00           N  \nATOM    281   Ca MOL     1      14.134  14.967  15.211  1.00  0.00          CA  \nATOM    282   Ca MOL     1      23.719  14.825   9.756  1.00  0.00          CA  \nATOM    283   Ca MOL     1      -1.740  -1.136  17.362  1.00  0.00          CA  \nATOM    284   Ca MOL     1      15.851  11.289   6.870  1.00  0.00          CA  \nATOM    285   Ca MOL     1      17.517   4.337   8.397  1.00  0.00          CA  \nATOM    286   Ca MOL     1      14.677   9.973   9.608  1.00  0.00          CA  \nATOM    287   Ca MOL     1      14.725   8.525   3.233  1.00  0.00          CA  \nATOM    288   Ca MOL     1       6.944   6.556  14.345  1.00  0.00          CA  \nATOM    289    N MOL     1      11.903  10.377  -0.161  1.00  0.00           N  \nATOM    290    N MOL     1      10.353  13.671   2.372  1.00  0.00           N  \nATOM    291    N MOL     1      13.478  10.429   3.467  1.00  0.00           N  \nATOM    292    N MOL     1      13.236  13.580   0.704  1.00  0.00           N  \nATOM    293   Ca MOL     1      10.621  19.144  -0.725  1.00  0.00          CA  \nATOM    294   Ca MOL     1       5.742   7.187   5.178  1.00  0.00          CA  \nATOM    295   Ca MOL     1      15.924  13.233   5.012  1.00  0.00          CA  \nATOM    296   Ca MOL     1       6.420  20.412   3.743  1.00  0.00          CA  \nATOM    297   Ca MOL     1      21.024  14.558  -6.274  1.00  0.00          CA  \nATOM    298   Ca MOL     1       6.398  12.521   0.368  1.00  0.00          CA  \nATOM    299   Ca MOL     1      23.281  10.459   3.462  1.00  0.00          CA  \nATOM    300   Ca MOL     1      21.206  12.114   3.911  1.00  0.00          CA  \nATOM    301    N MOL     1      10.392  10.937   5.173  1.00  0.00           N  \nATOM    302    N MOL     1      11.056  13.494   7.825  1.00  0.00           N  \nATOM    303    N MOL     1      13.673  10.427   7.501  1.00  0.00           N  \nATOM    304    N MOL     1      13.582  13.492   5.130  1.00  0.00           N  \nATOM    305   Ca MOL     1      13.973  20.081   8.798  1.00  0.00          CA  \nATOM    306   Ca MOL     1       9.174   8.700  12.663  1.00  0.00          CA  \nATOM    307   Ca MOL     1       8.843  17.739  13.507  1.00  0.00          CA  \nATOM    308   Ca MOL     1      12.416  17.712  12.321  1.00  0.00          CA  \nATOM    309   Ca MOL     1      20.408  20.078  12.392  1.00  0.00          CA  \nATOM    310   Ca MOL     1      15.312  21.231   6.871  1.00  0.00          CA  \nATOM    311   Ca MOL     1       7.007   9.454   0.652  1.00  0.00          CA  \nATOM    312   Ca MOL     1      20.081  20.603   5.740  1.00  0.00          CA  \nATOM    313    N MOL     1      11.556  11.060  10.591  1.00  0.00           N  \nATOM    314    N MOL     1      11.641  13.090  13.806  1.00  0.00           N  \nATOM    315    N MOL     1      14.018  10.487  13.787  1.00  0.00           N  \nATOM    316    N MOL     1      13.558  13.860  10.082  1.00  0.00           N  \nATOM    317   Ca MOL     1      12.600  21.049  23.183  1.00  0.00          CA  \nATOM    318   Ca MOL     1      27.156   7.709  10.568  1.00  0.00          CA  \nATOM    319   Ca MOL     1      10.018  24.668   5.017  1.00  0.00          CA  \nATOM    320   Ca MOL     1      11.234  16.378  13.310  1.00  0.00          CA  \nATOM    321   Ca MOL     1      17.083  18.307  10.321  1.00  0.00          CA  \nATOM    322   Ca MOL     1      15.916   4.507   4.340  1.00  0.00          CA  \nATOM    323   Ca MOL     1      26.665  15.045  22.765  1.00  0.00          CA  \nATOM    324   Ca MOL     1       6.564  18.342  17.835  1.00  0.00          CA  \nENDMDL\n",
          "binary": false
         }
        ],
        "kwargs": {
         "name": "nglview.adaptor.ASETrajectory",
         "defaultRepresentation": true,
         "ext": "pdb"
        }
       },
       {
        "component_index": 0,
        "target": "compList",
        "type": "call_method",
        "methodName": "removeAllRepresentations",
        "reconstruc_color_scheme": false,
        "args": [],
        "kwargs": {}
       },
       {
        "component_index": 0,
        "target": "compList",
        "type": "call_method",
        "methodName": "addRepresentation",
        "reconstruc_color_scheme": false,
        "args": [
         "unitcell"
        ],
        "kwargs": {
         "sele": "all",
         "selections": "all"
        }
       },
       {
        "component_index": 0,
        "target": "compList",
        "type": "call_method",
        "methodName": "addRepresentation",
        "reconstruc_color_scheme": false,
        "args": [
         "spacefill"
        ],
        "kwargs": {
         "sele": "all",
         "selections": "all"
        }
       },
       {
        "component_index": 0,
        "repr_index": 0,
        "target": "Representation",
        "type": "call_method",
        "methodName": "setParameters",
        "reconstruc_color_scheme": false,
        "args": [],
        "kwargs": {}
       },
       {
        "target": "Widget",
        "type": "call_method",
        "methodName": "request_repr_dict",
        "reconstruc_color_scheme": false,
        "args": [],
        "kwargs": {}
       },
       {
        "component_index": 0,
        "target": "compList",
        "type": "call_method",
        "methodName": "removeAllRepresentations",
        "reconstruc_color_scheme": false,
        "args": [],
        "kwargs": {}
       },
       {
        "component_index": 0,
        "target": "compList",
        "type": "call_method",
        "methodName": "addRepresentation",
        "reconstruc_color_scheme": false,
        "args": [
         "unitcell"
        ],
        "kwargs": {
         "sele": "all",
         "selections": "all"
        }
       },
       {
        "component_index": 0,
        "target": "compList",
        "type": "call_method",
        "methodName": "addRepresentation",
        "reconstruc_color_scheme": false,
        "args": [
         "spacefill"
        ],
        "kwargs": {
         "sele": "all",
         "selections": "all"
        }
       },
       {
        "component_index": 0,
        "repr_index": 0,
        "target": "Representation",
        "type": "call_method",
        "methodName": "setParameters",
        "reconstruc_color_scheme": false,
        "args": [],
        "kwargs": {}
       },
       {
        "target": "Widget",
        "type": "call_method",
        "methodName": "request_repr_dict",
        "reconstruc_color_scheme": false,
        "args": [],
        "kwargs": {}
       }
      ],
      "_ngl_original_stage_parameters": {
       "impostor": true,
       "quality": "medium",
       "workerDefault": true,
       "sampleLevel": 0,
       "backgroundColor": "white",
       "rotateSpeed": 2,
       "zoomSpeed": 1.2,
       "panSpeed": 1,
       "clipNear": 0,
       "clipFar": 100,
       "clipDist": 10,
       "clipMode": "scene",
       "clipScale": "relative",
       "fogNear": 50,
       "fogFar": 100,
       "cameraFov": 40,
       "cameraEyeSep": 0.3,
       "cameraType": "perspective",
       "lightColor": 14540253,
       "lightIntensity": 1,
       "ambientColor": 14540253,
       "ambientIntensity": 0.2,
       "hoverTimeout": 0,
       "tooltip": true,
       "mousePreset": "default"
      },
      "_ngl_repr_dict": {
       "0": {
        "0": {
         "type": "unitcell",
         "params": {
          "lazy": false,
          "visible": true,
          "quality": "medium",
          "radiusSize": 0.08257999637505885,
          "sphereDetail": 1,
          "radialSegments": 10,
          "disableImpostor": false,
          "radiusType": "vdw",
          "radiusData": {},
          "radiusScale": 1,
          "defaultAssembly": "",
          "clipNear": 0,
          "clipRadius": 0,
          "clipCenter": {
           "x": 0,
           "y": 0,
           "z": 0
          },
          "flatShaded": false,
          "opacity": 1,
          "depthWrite": true,
          "side": "double",
          "wireframe": false,
          "colorScheme": "element",
          "colorScale": "",
          "colorReverse": false,
          "colorValue": "orange",
          "colorMode": "hcl",
          "roughness": 0.4,
          "metalness": 0,
          "diffuse": 16777215,
          "diffuseInterior": false,
          "useInteriorColor": true,
          "interiorColor": 2236962,
          "interiorDarkening": 0,
          "matrix": {
           "elements": [
            1,
            0,
            0,
            0,
            0,
            1,
            0,
            0,
            0,
            0,
            1,
            0,
            0,
            0,
            0,
            1
           ]
          },
          "disablePicking": false,
          "sele": "all"
         }
        },
        "1": {
         "type": "unitcell",
         "params": {
          "lazy": false,
          "visible": true,
          "quality": "medium",
          "radiusSize": 0.08257999637505885,
          "sphereDetail": 1,
          "radialSegments": 10,
          "disableImpostor": false,
          "radiusType": "vdw",
          "radiusData": {},
          "radiusScale": 1,
          "defaultAssembly": "",
          "clipNear": 0,
          "clipRadius": 0,
          "clipCenter": {
           "x": 0,
           "y": 0,
           "z": 0
          },
          "flatShaded": false,
          "opacity": 1,
          "depthWrite": true,
          "side": "double",
          "wireframe": false,
          "colorScheme": "element",
          "colorScale": "",
          "colorReverse": false,
          "colorValue": "orange",
          "colorMode": "hcl",
          "roughness": 0.4,
          "metalness": 0,
          "diffuse": 16777215,
          "diffuseInterior": false,
          "useInteriorColor": true,
          "interiorColor": 2236962,
          "interiorDarkening": 0,
          "matrix": {
           "elements": [
            1,
            0,
            0,
            0,
            0,
            1,
            0,
            0,
            0,
            0,
            1,
            0,
            0,
            0,
            0,
            1
           ]
          },
          "disablePicking": false,
          "sele": "all"
         }
        },
        "2": {
         "type": "spacefill",
         "params": {
          "lazy": false,
          "visible": true,
          "quality": "medium",
          "sphereDetail": 1,
          "disableImpostor": false,
          "radiusType": "vdw",
          "radiusData": {},
          "radiusSize": 1,
          "radiusScale": 1,
          "assembly": "default",
          "defaultAssembly": "",
          "clipNear": 0,
          "clipRadius": 0,
          "clipCenter": {
           "x": 0,
           "y": 0,
           "z": 0
          },
          "flatShaded": false,
          "opacity": 1,
          "depthWrite": true,
          "side": "double",
          "wireframe": false,
          "colorScheme": "element",
          "colorScale": "",
          "colorReverse": false,
          "colorValue": 9474192,
          "colorMode": "hcl",
          "roughness": 0.4,
          "metalness": 0,
          "diffuse": 16777215,
          "diffuseInterior": false,
          "useInteriorColor": true,
          "interiorColor": 2236962,
          "interiorDarkening": 0,
          "matrix": {
           "elements": [
            1,
            0,
            0,
            0,
            0,
            1,
            0,
            0,
            0,
            0,
            1,
            0,
            0,
            0,
            0,
            1
           ]
          },
          "disablePicking": false,
          "sele": "all"
         }
        },
        "3": {
         "type": "spacefill",
         "params": {
          "lazy": false,
          "visible": true,
          "quality": "medium",
          "sphereDetail": 1,
          "disableImpostor": false,
          "radiusType": "vdw",
          "radiusData": {},
          "radiusSize": 1,
          "radiusScale": 1,
          "assembly": "default",
          "defaultAssembly": "",
          "clipNear": 0,
          "clipRadius": 0,
          "clipCenter": {
           "x": 0,
           "y": 0,
           "z": 0
          },
          "flatShaded": false,
          "opacity": 1,
          "depthWrite": true,
          "side": "double",
          "wireframe": false,
          "colorScheme": "element",
          "colorScale": "",
          "colorReverse": false,
          "colorValue": 9474192,
          "colorMode": "hcl",
          "roughness": 0.4,
          "metalness": 0,
          "diffuse": 16777215,
          "diffuseInterior": false,
          "useInteriorColor": true,
          "interiorColor": 2236962,
          "interiorDarkening": 0,
          "matrix": {
           "elements": [
            1,
            0,
            0,
            0,
            0,
            1,
            0,
            0,
            0,
            0,
            1,
            0,
            0,
            0,
            0,
            1
           ]
          },
          "disablePicking": false,
          "sele": "all"
         }
        }
       }
      },
      "_ngl_serialize": false,
      "_ngl_version": "2.0.0-dev.39",
      "_ngl_view_id": [
       "3A1A5824-C83C-4ED8-B19C-A7884FD42DC6",
       "6B60F302-476E-4B55-A891-30F287AFE47E"
      ],
      "_player_dict": {},
      "_scene_position": {},
      "_scene_rotation": {},
      "_synced_model_ids": [],
      "_synced_repr_model_ids": [],
      "_view_count": null,
      "_view_height": "",
      "_view_module": "nglview-js-widgets",
      "_view_module_version": "3.0.8",
      "_view_name": "NGLView",
      "_view_width": "",
      "background": "white",
      "frame": 0,
      "gui_style": null,
      "layout": "IPY_MODEL_d50040af5dd748df9ccbef2fdea84463",
      "max_frame": 999,
      "n_components": 1,
      "picked": {}
     }
    },
    "d50040af5dd748df9ccbef2fdea84463": {
     "model_module": "@jupyter-widgets/base",
     "model_name": "LayoutModel",
     "model_module_version": "1.2.0",
     "state": {
      "_model_module": "@jupyter-widgets/base",
      "_model_module_version": "1.2.0",
      "_model_name": "LayoutModel",
      "_view_count": null,
      "_view_module": "@jupyter-widgets/base",
      "_view_module_version": "1.2.0",
      "_view_name": "LayoutView",
      "align_content": null,
      "align_items": null,
      "align_self": null,
      "border": null,
      "bottom": null,
      "display": null,
      "flex": null,
      "flex_flow": null,
      "grid_area": null,
      "grid_auto_columns": null,
      "grid_auto_flow": null,
      "grid_auto_rows": null,
      "grid_column": null,
      "grid_gap": null,
      "grid_row": null,
      "grid_template_areas": null,
      "grid_template_columns": null,
      "grid_template_rows": null,
      "height": null,
      "justify_content": null,
      "justify_items": null,
      "left": null,
      "margin": null,
      "max_height": null,
      "max_width": null,
      "min_height": null,
      "min_width": null,
      "object_fit": null,
      "object_position": null,
      "order": null,
      "overflow": null,
      "overflow_x": null,
      "overflow_y": null,
      "padding": null,
      "right": null,
      "top": null,
      "visibility": null,
      "width": null
     }
    },
    "4f813c32045445eea51793d65fe901a4": {
     "model_module": "@jupyter-widgets/controls",
     "model_name": "ButtonModel",
     "model_module_version": "1.5.0",
     "state": {
      "_dom_classes": [],
      "_model_module": "@jupyter-widgets/controls",
      "_model_module_version": "1.5.0",
      "_model_name": "ButtonModel",
      "_view_count": null,
      "_view_module": "@jupyter-widgets/controls",
      "_view_module_version": "1.5.0",
      "_view_name": "ButtonView",
      "button_style": "",
      "description": "",
      "disabled": false,
      "icon": "compress",
      "layout": "IPY_MODEL_afde71f45a084b8da8c1593e22f53afb",
      "style": "IPY_MODEL_c10d69ec1a364517b1b18808fae8c5d4",
      "tooltip": ""
     }
    },
    "d9e0ba5f3d7e4e4bb7b268c3db15280f": {
     "model_module": "@jupyter-widgets/controls",
     "model_name": "HBoxModel",
     "model_module_version": "1.5.0",
     "state": {
      "_dom_classes": [],
      "_model_module": "@jupyter-widgets/controls",
      "_model_module_version": "1.5.0",
      "_model_name": "HBoxModel",
      "_view_count": null,
      "_view_module": "@jupyter-widgets/controls",
      "_view_module_version": "1.5.0",
      "_view_name": "HBoxView",
      "box_style": "",
      "children": [
       "IPY_MODEL_9c467ef08d034b998b71632ea457c573",
       "IPY_MODEL_2471037a6d4c46dd887609e814c9c4bc"
      ],
      "layout": "IPY_MODEL_a6f3c338a62b457aa5f2e87fb288281b"
     }
    },
    "afde71f45a084b8da8c1593e22f53afb": {
     "model_module": "@jupyter-widgets/base",
     "model_name": "LayoutModel",
     "model_module_version": "1.2.0",
     "state": {
      "_model_module": "@jupyter-widgets/base",
      "_model_module_version": "1.2.0",
      "_model_name": "LayoutModel",
      "_view_count": null,
      "_view_module": "@jupyter-widgets/base",
      "_view_module_version": "1.2.0",
      "_view_name": "LayoutView",
      "align_content": null,
      "align_items": null,
      "align_self": null,
      "border": null,
      "bottom": null,
      "display": null,
      "flex": null,
      "flex_flow": null,
      "grid_area": null,
      "grid_auto_columns": null,
      "grid_auto_flow": null,
      "grid_auto_rows": null,
      "grid_column": null,
      "grid_gap": null,
      "grid_row": null,
      "grid_template_areas": null,
      "grid_template_columns": null,
      "grid_template_rows": null,
      "height": null,
      "justify_content": null,
      "justify_items": null,
      "left": null,
      "margin": null,
      "max_height": null,
      "max_width": null,
      "min_height": null,
      "min_width": null,
      "object_fit": null,
      "object_position": null,
      "order": null,
      "overflow": null,
      "overflow_x": null,
      "overflow_y": null,
      "padding": null,
      "right": null,
      "top": null,
      "visibility": null,
      "width": "34px"
     }
    },
    "c10d69ec1a364517b1b18808fae8c5d4": {
     "model_module": "@jupyter-widgets/controls",
     "model_name": "ButtonStyleModel",
     "model_module_version": "1.5.0",
     "state": {
      "_model_module": "@jupyter-widgets/controls",
      "_model_module_version": "1.5.0",
      "_model_name": "ButtonStyleModel",
      "_view_count": null,
      "_view_module": "@jupyter-widgets/base",
      "_view_module_version": "1.2.0",
      "_view_name": "StyleView",
      "button_color": null,
      "font_weight": ""
     }
    },
    "9c467ef08d034b998b71632ea457c573": {
     "model_module": "@jupyter-widgets/controls",
     "model_name": "PlayModel",
     "model_module_version": "1.5.0",
     "state": {
      "_dom_classes": [],
      "_model_module": "@jupyter-widgets/controls",
      "_model_module_version": "1.5.0",
      "_model_name": "PlayModel",
      "_playing": false,
      "_repeat": false,
      "_view_count": null,
      "_view_module": "@jupyter-widgets/controls",
      "_view_module_version": "1.5.0",
      "_view_name": "PlayView",
      "description": "",
      "description_tooltip": null,
      "disabled": false,
      "interval": 100,
      "layout": "IPY_MODEL_90396c7aae98479b80df8010bb8a3dde",
      "max": 999,
      "min": 0,
      "show_repeat": true,
      "step": 1,
      "style": "IPY_MODEL_a59fd176fb0542c5a9a3ad052ad7d717",
      "value": 623,
      "playing": true,
      "repeat": true
     }
    },
    "2471037a6d4c46dd887609e814c9c4bc": {
     "model_module": "@jupyter-widgets/controls",
     "model_name": "IntSliderModel",
     "model_module_version": "1.5.0",
     "state": {
      "_dom_classes": [],
      "_model_module": "@jupyter-widgets/controls",
      "_model_module_version": "1.5.0",
      "_model_name": "IntSliderModel",
      "_view_count": null,
      "_view_module": "@jupyter-widgets/controls",
      "_view_module_version": "1.5.0",
      "_view_name": "IntSliderView",
      "continuous_update": true,
      "description": "",
      "description_tooltip": null,
      "disabled": false,
      "layout": "IPY_MODEL_424836d60bff4250873824c0ca489cec",
      "max": 999,
      "min": 0,
      "orientation": "horizontal",
      "readout": true,
      "readout_format": "d",
      "step": 1,
      "style": "IPY_MODEL_edffbc1c4e0b4a3193e75f8fc3636b68",
      "value": 0
     }
    },
    "a6f3c338a62b457aa5f2e87fb288281b": {
     "model_module": "@jupyter-widgets/base",
     "model_name": "LayoutModel",
     "model_module_version": "1.2.0",
     "state": {
      "_model_module": "@jupyter-widgets/base",
      "_model_module_version": "1.2.0",
      "_model_name": "LayoutModel",
      "_view_count": null,
      "_view_module": "@jupyter-widgets/base",
      "_view_module_version": "1.2.0",
      "_view_name": "LayoutView",
      "align_content": null,
      "align_items": null,
      "align_self": null,
      "border": null,
      "bottom": null,
      "display": null,
      "flex": null,
      "flex_flow": null,
      "grid_area": null,
      "grid_auto_columns": null,
      "grid_auto_flow": null,
      "grid_auto_rows": null,
      "grid_column": null,
      "grid_gap": null,
      "grid_row": null,
      "grid_template_areas": null,
      "grid_template_columns": null,
      "grid_template_rows": null,
      "height": null,
      "justify_content": null,
      "justify_items": null,
      "left": null,
      "margin": null,
      "max_height": null,
      "max_width": null,
      "min_height": null,
      "min_width": null,
      "object_fit": null,
      "object_position": null,
      "order": null,
      "overflow": null,
      "overflow_x": null,
      "overflow_y": null,
      "padding": null,
      "right": null,
      "top": null,
      "visibility": null,
      "width": null
     }
    },
    "90396c7aae98479b80df8010bb8a3dde": {
     "model_module": "@jupyter-widgets/base",
     "model_name": "LayoutModel",
     "model_module_version": "1.2.0",
     "state": {
      "_model_module": "@jupyter-widgets/base",
      "_model_module_version": "1.2.0",
      "_model_name": "LayoutModel",
      "_view_count": null,
      "_view_module": "@jupyter-widgets/base",
      "_view_module_version": "1.2.0",
      "_view_name": "LayoutView",
      "align_content": null,
      "align_items": null,
      "align_self": null,
      "border": null,
      "bottom": null,
      "display": null,
      "flex": null,
      "flex_flow": null,
      "grid_area": null,
      "grid_auto_columns": null,
      "grid_auto_flow": null,
      "grid_auto_rows": null,
      "grid_column": null,
      "grid_gap": null,
      "grid_row": null,
      "grid_template_areas": null,
      "grid_template_columns": null,
      "grid_template_rows": null,
      "height": null,
      "justify_content": null,
      "justify_items": null,
      "left": null,
      "margin": null,
      "max_height": null,
      "max_width": null,
      "min_height": null,
      "min_width": null,
      "object_fit": null,
      "object_position": null,
      "order": null,
      "overflow": null,
      "overflow_x": null,
      "overflow_y": null,
      "padding": null,
      "right": null,
      "top": null,
      "visibility": null,
      "width": null
     }
    },
    "a59fd176fb0542c5a9a3ad052ad7d717": {
     "model_module": "@jupyter-widgets/controls",
     "model_name": "DescriptionStyleModel",
     "model_module_version": "1.5.0",
     "state": {
      "_model_module": "@jupyter-widgets/controls",
      "_model_module_version": "1.5.0",
      "_model_name": "DescriptionStyleModel",
      "_view_count": null,
      "_view_module": "@jupyter-widgets/base",
      "_view_module_version": "1.2.0",
      "_view_name": "StyleView",
      "description_width": ""
     }
    },
    "424836d60bff4250873824c0ca489cec": {
     "model_module": "@jupyter-widgets/base",
     "model_name": "LayoutModel",
     "model_module_version": "1.2.0",
     "state": {
      "_model_module": "@jupyter-widgets/base",
      "_model_module_version": "1.2.0",
      "_model_name": "LayoutModel",
      "_view_count": null,
      "_view_module": "@jupyter-widgets/base",
      "_view_module_version": "1.2.0",
      "_view_name": "LayoutView",
      "align_content": null,
      "align_items": null,
      "align_self": null,
      "border": null,
      "bottom": null,
      "display": null,
      "flex": null,
      "flex_flow": null,
      "grid_area": null,
      "grid_auto_columns": null,
      "grid_auto_flow": null,
      "grid_auto_rows": null,
      "grid_column": null,
      "grid_gap": null,
      "grid_row": null,
      "grid_template_areas": null,
      "grid_template_columns": null,
      "grid_template_rows": null,
      "height": null,
      "justify_content": null,
      "justify_items": null,
      "left": null,
      "margin": null,
      "max_height": null,
      "max_width": null,
      "min_height": null,
      "min_width": null,
      "object_fit": null,
      "object_position": null,
      "order": null,
      "overflow": null,
      "overflow_x": null,
      "overflow_y": null,
      "padding": null,
      "right": null,
      "top": null,
      "visibility": null,
      "width": null
     }
    },
    "edffbc1c4e0b4a3193e75f8fc3636b68": {
     "model_module": "@jupyter-widgets/controls",
     "model_name": "SliderStyleModel",
     "model_module_version": "1.5.0",
     "state": {
      "_model_module": "@jupyter-widgets/controls",
      "_model_module_version": "1.5.0",
      "_model_name": "SliderStyleModel",
      "_view_count": null,
      "_view_module": "@jupyter-widgets/base",
      "_view_module_version": "1.2.0",
      "_view_name": "StyleView",
      "description_width": "",
      "handle_color": null
     }
    }
   }
  }
 },
 "nbformat": 4,
 "nbformat_minor": 5
}
